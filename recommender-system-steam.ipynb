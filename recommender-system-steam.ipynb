{
 "cells": [
  {
   "cell_type": "code",
   "execution_count": 1,
   "id": "0e94fa76",
   "metadata": {
    "_cell_guid": "b1076dfc-b9ad-4769-8c92-a6c4dae69d19",
    "_uuid": "8f2839f25d086af736a60e9eeb907d3b93b6e0e5",
    "execution": {
     "iopub.execute_input": "2025-01-04T22:46:02.278798Z",
     "iopub.status.busy": "2025-01-04T22:46:02.278452Z",
     "iopub.status.idle": "2025-01-04T22:46:02.657010Z",
     "shell.execute_reply": "2025-01-04T22:46:02.655860Z"
    },
    "papermill": {
     "duration": 0.384073,
     "end_time": "2025-01-04T22:46:02.658921",
     "exception": false,
     "start_time": "2025-01-04T22:46:02.274848",
     "status": "completed"
    },
    "tags": []
   },
   "outputs": [
    {
     "name": "stdout",
     "output_type": "stream",
     "text": [
      "/kaggle/input/steam-video-games/steam-200k.csv\n"
     ]
    }
   ],
   "source": [
    "# This Python 3 environment comes with many helpful analytics libraries installed\n",
    "# It is defined by the kaggle/python Docker image: https://github.com/kaggle/docker-python\n",
    "# For example, here's several helpful packages to load\n",
    "\n",
    "import numpy as np # linear algebra\n",
    "import pandas as pd # data processing, CSV file I/O (e.g. pd.read_csv)\n",
    "\n",
    "# Input data files are available in the read-only \"../input/\" directory\n",
    "# For example, running this (by clicking run or pressing Shift+Enter) will list all files under the input directory\n",
    "\n",
    "import os\n",
    "for dirname, _, filenames in os.walk('/kaggle/input'):\n",
    "    for filename in filenames:\n",
    "        print(os.path.join(dirname, filename))\n",
    "\n",
    "# You can write up to 20GB to the current directory (/kaggle/working/) that gets preserved as output when you create a version using \"Save & Run All\" \n",
    "# You can also write temporary files to /kaggle/temp/, but they won't be saved outside of the current session"
   ]
  },
  {
   "cell_type": "markdown",
   "id": "7138d1a7",
   "metadata": {
    "papermill": {
     "duration": 0.001929,
     "end_time": "2025-01-04T22:46:02.663385",
     "exception": false,
     "start_time": "2025-01-04T22:46:02.661456",
     "status": "completed"
    },
    "tags": []
   },
   "source": [
    "# Step-1: Data Loading and cleaning"
   ]
  },
  {
   "cell_type": "code",
   "execution_count": 2,
   "id": "f4d6e0ce",
   "metadata": {
    "execution": {
     "iopub.execute_input": "2025-01-04T22:46:02.668912Z",
     "iopub.status.busy": "2025-01-04T22:46:02.668368Z",
     "iopub.status.idle": "2025-01-04T22:46:02.877381Z",
     "shell.execute_reply": "2025-01-04T22:46:02.876371Z"
    },
    "papermill": {
     "duration": 0.213898,
     "end_time": "2025-01-04T22:46:02.879308",
     "exception": false,
     "start_time": "2025-01-04T22:46:02.665410",
     "status": "completed"
    },
    "tags": []
   },
   "outputs": [],
   "source": [
    "df = pd.read_csv('/kaggle/input/steam-video-games/steam-200k.csv')"
   ]
  },
  {
   "cell_type": "code",
   "execution_count": 3,
   "id": "2fc9bf91",
   "metadata": {
    "execution": {
     "iopub.execute_input": "2025-01-04T22:46:02.884674Z",
     "iopub.status.busy": "2025-01-04T22:46:02.884315Z",
     "iopub.status.idle": "2025-01-04T22:46:02.918685Z",
     "shell.execute_reply": "2025-01-04T22:46:02.917539Z"
    },
    "papermill": {
     "duration": 0.038992,
     "end_time": "2025-01-04T22:46:02.920542",
     "exception": false,
     "start_time": "2025-01-04T22:46:02.881550",
     "status": "completed"
    },
    "tags": []
   },
   "outputs": [
    {
     "data": {
      "text/plain": [
       "151603712                     0\n",
       "The Elder Scrolls V Skyrim    0\n",
       "purchase                      0\n",
       "1.0                           0\n",
       "0                             0\n",
       "dtype: int64"
      ]
     },
     "execution_count": 3,
     "metadata": {},
     "output_type": "execute_result"
    }
   ],
   "source": [
    "df.isnull().sum()"
   ]
  },
  {
   "cell_type": "code",
   "execution_count": null,
   "id": "5a822c10",
   "metadata": {
    "papermill": {
     "duration": 0.001869,
     "end_time": "2025-01-04T22:46:02.924684",
     "exception": false,
     "start_time": "2025-01-04T22:46:02.922815",
     "status": "completed"
    },
    "tags": []
   },
   "outputs": [],
   "source": []
  }
 ],
 "metadata": {
  "kaggle": {
   "accelerator": "none",
   "dataSources": [
    {
     "datasetId": 915,
     "sourceId": 1720,
     "sourceType": "datasetVersion"
    }
   ],
   "dockerImageVersionId": 30822,
   "isGpuEnabled": false,
   "isInternetEnabled": true,
   "language": "python",
   "sourceType": "notebook"
  },
  "kernelspec": {
   "display_name": "Python 3",
   "language": "python",
   "name": "python3"
  },
  "language_info": {
   "codemirror_mode": {
    "name": "ipython",
    "version": 3
   },
   "file_extension": ".py",
   "mimetype": "text/x-python",
   "name": "python",
   "nbconvert_exporter": "python",
   "pygments_lexer": "ipython3",
   "version": "3.10.12"
  },
  "papermill": {
   "default_parameters": {},
   "duration": 3.35217,
   "end_time": "2025-01-04T22:46:03.445949",
   "environment_variables": {},
   "exception": null,
   "input_path": "__notebook__.ipynb",
   "output_path": "__notebook__.ipynb",
   "parameters": {},
   "start_time": "2025-01-04T22:46:00.093779",
   "version": "2.6.0"
  }
 },
 "nbformat": 4,
 "nbformat_minor": 5
}
