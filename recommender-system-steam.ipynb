{
 "cells": [
  {
   "cell_type": "code",
   "execution_count": 1,
   "id": "92cce261",
   "metadata": {
    "_cell_guid": "b1076dfc-b9ad-4769-8c92-a6c4dae69d19",
    "_uuid": "8f2839f25d086af736a60e9eeb907d3b93b6e0e5",
    "execution": {
     "iopub.execute_input": "2025-01-06T20:07:40.277114Z",
     "iopub.status.busy": "2025-01-06T20:07:40.276619Z",
     "iopub.status.idle": "2025-01-06T20:07:40.695188Z",
     "shell.execute_reply": "2025-01-06T20:07:40.693471Z"
    },
    "papermill": {
     "duration": 0.429149,
     "end_time": "2025-01-06T20:07:40.697365",
     "exception": false,
     "start_time": "2025-01-06T20:07:40.268216",
     "status": "completed"
    },
    "tags": []
   },
   "outputs": [
    {
     "name": "stdout",
     "output_type": "stream",
     "text": [
      "/kaggle/input/steam-video-games/steam-200k.csv\n"
     ]
    }
   ],
   "source": [
    "# This Python 3 environment comes with many helpful analytics libraries installed\n",
    "# It is defined by the kaggle/python Docker image: https://github.com/kaggle/docker-python\n",
    "# For example, here's several helpful packages to load\n",
    "\n",
    "import numpy as np # linear algebra\n",
    "import pandas as pd # data processing, CSV file I/O (e.g. pd.read_csv)\n",
    "\n",
    "# Input data files are available in the read-only \"../input/\" directory\n",
    "# For example, running this (by clicking run or pressing Shift+Enter) will list all files under the input directory\n",
    "\n",
    "import os\n",
    "for dirname, _, filenames in os.walk('/kaggle/input'):\n",
    "    for filename in filenames:\n",
    "        print(os.path.join(dirname, filename))\n",
    "\n",
    "# You can write up to 20GB to the current directory (/kaggle/working/) that gets preserved as output when you create a version using \"Save & Run All\" \n",
    "# You can also write temporary files to /kaggle/temp/, but they won't be saved outside of the current session"
   ]
  },
  {
   "cell_type": "markdown",
   "id": "5049f81e",
   "metadata": {
    "papermill": {
     "duration": 0.00653,
     "end_time": "2025-01-06T20:07:40.710761",
     "exception": false,
     "start_time": "2025-01-06T20:07:40.704231",
     "status": "completed"
    },
    "tags": []
   },
   "source": [
    "# Step-1: Data Loading and cleaning"
   ]
  },
  {
   "cell_type": "markdown",
   "id": "4fc26999",
   "metadata": {
    "papermill": {
     "duration": 0.005762,
     "end_time": "2025-01-06T20:07:40.722724",
     "exception": false,
     "start_time": "2025-01-06T20:07:40.716962",
     "status": "completed"
    },
    "tags": []
   },
   "source": [
    "## Data Loading"
   ]
  },
  {
   "cell_type": "code",
   "execution_count": 2,
   "id": "2f582608",
   "metadata": {
    "execution": {
     "iopub.execute_input": "2025-01-06T20:07:40.737315Z",
     "iopub.status.busy": "2025-01-06T20:07:40.736800Z",
     "iopub.status.idle": "2025-01-06T20:07:41.028624Z",
     "shell.execute_reply": "2025-01-06T20:07:41.027067Z"
    },
    "papermill": {
     "duration": 0.302186,
     "end_time": "2025-01-06T20:07:41.030993",
     "exception": false,
     "start_time": "2025-01-06T20:07:40.728807",
     "status": "completed"
    },
    "tags": []
   },
   "outputs": [
    {
     "data": {
      "text/html": [
       "<div>\n",
       "<style scoped>\n",
       "    .dataframe tbody tr th:only-of-type {\n",
       "        vertical-align: middle;\n",
       "    }\n",
       "\n",
       "    .dataframe tbody tr th {\n",
       "        vertical-align: top;\n",
       "    }\n",
       "\n",
       "    .dataframe thead th {\n",
       "        text-align: right;\n",
       "    }\n",
       "</style>\n",
       "<table border=\"1\" class=\"dataframe\">\n",
       "  <thead>\n",
       "    <tr style=\"text-align: right;\">\n",
       "      <th></th>\n",
       "      <th>userid</th>\n",
       "      <th>game</th>\n",
       "      <th>behavior</th>\n",
       "      <th>hoursplayed</th>\n",
       "    </tr>\n",
       "  </thead>\n",
       "  <tbody>\n",
       "    <tr>\n",
       "      <th>0</th>\n",
       "      <td>151603712</td>\n",
       "      <td>The Elder Scrolls V Skyrim</td>\n",
       "      <td>purchase</td>\n",
       "      <td>1.0</td>\n",
       "    </tr>\n",
       "    <tr>\n",
       "      <th>1</th>\n",
       "      <td>151603712</td>\n",
       "      <td>The Elder Scrolls V Skyrim</td>\n",
       "      <td>play</td>\n",
       "      <td>273.0</td>\n",
       "    </tr>\n",
       "    <tr>\n",
       "      <th>2</th>\n",
       "      <td>151603712</td>\n",
       "      <td>Fallout 4</td>\n",
       "      <td>purchase</td>\n",
       "      <td>1.0</td>\n",
       "    </tr>\n",
       "    <tr>\n",
       "      <th>3</th>\n",
       "      <td>151603712</td>\n",
       "      <td>Fallout 4</td>\n",
       "      <td>play</td>\n",
       "      <td>87.0</td>\n",
       "    </tr>\n",
       "    <tr>\n",
       "      <th>4</th>\n",
       "      <td>151603712</td>\n",
       "      <td>Spore</td>\n",
       "      <td>purchase</td>\n",
       "      <td>1.0</td>\n",
       "    </tr>\n",
       "  </tbody>\n",
       "</table>\n",
       "</div>"
      ],
      "text/plain": [
       "      userid                        game  behavior  hoursplayed\n",
       "0  151603712  The Elder Scrolls V Skyrim  purchase          1.0\n",
       "1  151603712  The Elder Scrolls V Skyrim      play        273.0\n",
       "2  151603712                   Fallout 4  purchase          1.0\n",
       "3  151603712                   Fallout 4      play         87.0\n",
       "4  151603712                       Spore  purchase          1.0"
      ]
     },
     "execution_count": 2,
     "metadata": {},
     "output_type": "execute_result"
    }
   ],
   "source": [
    "df = pd.read_csv('/kaggle/input/steam-video-games/steam-200k.csv',usecols=[0,1,2,3],names=['userid','game','behavior','hoursplayed'])\n",
    "df.head()"
   ]
  },
  {
   "cell_type": "markdown",
   "id": "9a9705f2",
   "metadata": {
    "papermill": {
     "duration": 0.006734,
     "end_time": "2025-01-06T20:07:41.044865",
     "exception": false,
     "start_time": "2025-01-06T20:07:41.038131",
     "status": "completed"
    },
    "tags": []
   },
   "source": [
    "# Check null values"
   ]
  },
  {
   "cell_type": "code",
   "execution_count": 3,
   "id": "93dd131a",
   "metadata": {
    "execution": {
     "iopub.execute_input": "2025-01-06T20:07:41.061104Z",
     "iopub.status.busy": "2025-01-06T20:07:41.060664Z",
     "iopub.status.idle": "2025-01-06T20:07:41.094756Z",
     "shell.execute_reply": "2025-01-06T20:07:41.093070Z"
    },
    "papermill": {
     "duration": 0.044922,
     "end_time": "2025-01-06T20:07:41.097113",
     "exception": false,
     "start_time": "2025-01-06T20:07:41.052191",
     "status": "completed"
    },
    "tags": []
   },
   "outputs": [
    {
     "data": {
      "text/plain": [
       "userid         0\n",
       "game           0\n",
       "behavior       0\n",
       "hoursplayed    0\n",
       "dtype: int64"
      ]
     },
     "execution_count": 3,
     "metadata": {},
     "output_type": "execute_result"
    }
   ],
   "source": [
    "df.isnull().sum()"
   ]
  },
  {
   "cell_type": "code",
   "execution_count": 4,
   "id": "02917f7e",
   "metadata": {
    "execution": {
     "iopub.execute_input": "2025-01-06T20:07:41.114073Z",
     "iopub.status.busy": "2025-01-06T20:07:41.113586Z",
     "iopub.status.idle": "2025-01-06T20:07:41.166726Z",
     "shell.execute_reply": "2025-01-06T20:07:41.165049Z"
    },
    "papermill": {
     "duration": 0.064748,
     "end_time": "2025-01-06T20:07:41.168923",
     "exception": false,
     "start_time": "2025-01-06T20:07:41.104175",
     "status": "completed"
    },
    "tags": []
   },
   "outputs": [
    {
     "name": "stdout",
     "output_type": "stream",
     "text": [
      "<class 'pandas.core.frame.DataFrame'>\n",
      "RangeIndex: 200000 entries, 0 to 199999\n",
      "Data columns (total 4 columns):\n",
      " #   Column       Non-Null Count   Dtype  \n",
      "---  ------       --------------   -----  \n",
      " 0   userid       200000 non-null  int64  \n",
      " 1   game         200000 non-null  object \n",
      " 2   behavior     200000 non-null  object \n",
      " 3   hoursplayed  200000 non-null  float64\n",
      "dtypes: float64(1), int64(1), object(2)\n",
      "memory usage: 6.1+ MB\n"
     ]
    }
   ],
   "source": [
    "df.info()"
   ]
  },
  {
   "cell_type": "code",
   "execution_count": 5,
   "id": "a721e8fc",
   "metadata": {
    "execution": {
     "iopub.execute_input": "2025-01-06T20:07:41.184010Z",
     "iopub.status.busy": "2025-01-06T20:07:41.183476Z",
     "iopub.status.idle": "2025-01-06T20:07:41.212198Z",
     "shell.execute_reply": "2025-01-06T20:07:41.210594Z"
    },
    "papermill": {
     "duration": 0.039445,
     "end_time": "2025-01-06T20:07:41.214956",
     "exception": false,
     "start_time": "2025-01-06T20:07:41.175511",
     "status": "completed"
    },
    "tags": []
   },
   "outputs": [
    {
     "name": "stdout",
     "output_type": "stream",
     "text": [
      "count    200000.000000\n",
      "mean         17.874384\n",
      "std         138.056952\n",
      "min           0.100000\n",
      "25%           1.000000\n",
      "50%           1.000000\n",
      "75%           1.300000\n",
      "max       11754.000000\n",
      "Name: hoursplayed, dtype: float64\n",
      "0\n",
      "0\n"
     ]
    }
   ],
   "source": [
    "print(df['hoursplayed'].describe())\n",
    "print(df['hoursplayed'].isnull().sum())  # Check for NaN\n",
    "print((df['hoursplayed'] == float('inf')).sum())  # Check for infinite values\n"
   ]
  },
  {
   "cell_type": "markdown",
   "id": "c3c91b23",
   "metadata": {
    "papermill": {
     "duration": 0.007401,
     "end_time": "2025-01-06T20:07:41.230286",
     "exception": false,
     "start_time": "2025-01-06T20:07:41.222885",
     "status": "completed"
    },
    "tags": []
   },
   "source": [
    "### Convert Userid to string"
   ]
  },
  {
   "cell_type": "code",
   "execution_count": 6,
   "id": "94892ef1",
   "metadata": {
    "execution": {
     "iopub.execute_input": "2025-01-06T20:07:41.246103Z",
     "iopub.status.busy": "2025-01-06T20:07:41.245658Z",
     "iopub.status.idle": "2025-01-06T20:07:41.345425Z",
     "shell.execute_reply": "2025-01-06T20:07:41.343877Z"
    },
    "papermill": {
     "duration": 0.11057,
     "end_time": "2025-01-06T20:07:41.348008",
     "exception": false,
     "start_time": "2025-01-06T20:07:41.237438",
     "status": "completed"
    },
    "tags": []
   },
   "outputs": [],
   "source": [
    "df.userid = df.userid.astype(str)"
   ]
  },
  {
   "cell_type": "code",
   "execution_count": 7,
   "id": "e8617740",
   "metadata": {
    "execution": {
     "iopub.execute_input": "2025-01-06T20:07:41.364569Z",
     "iopub.status.busy": "2025-01-06T20:07:41.364121Z",
     "iopub.status.idle": "2025-01-06T20:07:41.404976Z",
     "shell.execute_reply": "2025-01-06T20:07:41.402801Z"
    },
    "papermill": {
     "duration": 0.051316,
     "end_time": "2025-01-06T20:07:41.407206",
     "exception": false,
     "start_time": "2025-01-06T20:07:41.355890",
     "status": "completed"
    },
    "tags": []
   },
   "outputs": [
    {
     "name": "stdout",
     "output_type": "stream",
     "text": [
      "<class 'pandas.core.frame.DataFrame'>\n",
      "RangeIndex: 200000 entries, 0 to 199999\n",
      "Data columns (total 4 columns):\n",
      " #   Column       Non-Null Count   Dtype  \n",
      "---  ------       --------------   -----  \n",
      " 0   userid       200000 non-null  object \n",
      " 1   game         200000 non-null  object \n",
      " 2   behavior     200000 non-null  object \n",
      " 3   hoursplayed  200000 non-null  float64\n",
      "dtypes: float64(1), object(3)\n",
      "memory usage: 6.1+ MB\n"
     ]
    }
   ],
   "source": [
    "df.info()"
   ]
  },
  {
   "cell_type": "code",
   "execution_count": 8,
   "id": "5d6febd0",
   "metadata": {
    "execution": {
     "iopub.execute_input": "2025-01-06T20:07:41.422144Z",
     "iopub.status.busy": "2025-01-06T20:07:41.421790Z",
     "iopub.status.idle": "2025-01-06T20:07:41.428773Z",
     "shell.execute_reply": "2025-01-06T20:07:41.427159Z"
    },
    "papermill": {
     "duration": 0.017011,
     "end_time": "2025-01-06T20:07:41.431056",
     "exception": false,
     "start_time": "2025-01-06T20:07:41.414045",
     "status": "completed"
    },
    "tags": []
   },
   "outputs": [
    {
     "data": {
      "text/plain": [
       "str"
      ]
     },
     "execution_count": 8,
     "metadata": {},
     "output_type": "execute_result"
    }
   ],
   "source": [
    "type(df.userid[0])"
   ]
  },
  {
   "cell_type": "markdown",
   "id": "0423a063",
   "metadata": {
    "papermill": {
     "duration": 0.007247,
     "end_time": "2025-01-06T20:07:41.446367",
     "exception": false,
     "start_time": "2025-01-06T20:07:41.439120",
     "status": "completed"
    },
    "tags": []
   },
   "source": [
    "# Step-2: EDA"
   ]
  },
  {
   "cell_type": "code",
   "execution_count": 9,
   "id": "527fe168",
   "metadata": {
    "execution": {
     "iopub.execute_input": "2025-01-06T20:07:41.462584Z",
     "iopub.status.busy": "2025-01-06T20:07:41.462137Z",
     "iopub.status.idle": "2025-01-06T20:07:41.506350Z",
     "shell.execute_reply": "2025-01-06T20:07:41.504940Z"
    },
    "papermill": {
     "duration": 0.054379,
     "end_time": "2025-01-06T20:07:41.508299",
     "exception": false,
     "start_time": "2025-01-06T20:07:41.453920",
     "status": "completed"
    },
    "tags": []
   },
   "outputs": [
    {
     "name": "stdout",
     "output_type": "stream",
     "text": [
      "Number of users: 12393\n",
      "Number of games: 5155\n"
     ]
    }
   ],
   "source": [
    "print(f\"Number of users: { len(df.userid.unique())}\")\n",
    "print(f\"Number of games: { len(df.game.unique())}\")"
   ]
  },
  {
   "cell_type": "markdown",
   "id": "1bc05be9",
   "metadata": {
    "papermill": {
     "duration": 0.006999,
     "end_time": "2025-01-06T20:07:41.522343",
     "exception": false,
     "start_time": "2025-01-06T20:07:41.515344",
     "status": "completed"
    },
    "tags": []
   },
   "source": [
    "The total number of users in database are 12,393 with 5,155 games"
   ]
  },
  {
   "cell_type": "markdown",
   "id": "7f5f53ef",
   "metadata": {
    "papermill": {
     "duration": 0.006497,
     "end_time": "2025-01-06T20:07:41.535682",
     "exception": false,
     "start_time": "2025-01-06T20:07:41.529185",
     "status": "completed"
    },
    "tags": []
   },
   "source": [
    "## Top 10 Games with respect to number of gamers"
   ]
  },
  {
   "cell_type": "code",
   "execution_count": 10,
   "id": "ea7f5e1a",
   "metadata": {
    "execution": {
     "iopub.execute_input": "2025-01-06T20:07:41.551750Z",
     "iopub.status.busy": "2025-01-06T20:07:41.551244Z",
     "iopub.status.idle": "2025-01-06T20:07:41.664329Z",
     "shell.execute_reply": "2025-01-06T20:07:41.662716Z"
    },
    "papermill": {
     "duration": 0.123421,
     "end_time": "2025-01-06T20:07:41.666439",
     "exception": false,
     "start_time": "2025-01-06T20:07:41.543018",
     "status": "completed"
    },
    "tags": []
   },
   "outputs": [
    {
     "data": {
      "text/html": [
       "<div>\n",
       "<style scoped>\n",
       "    .dataframe tbody tr th:only-of-type {\n",
       "        vertical-align: middle;\n",
       "    }\n",
       "\n",
       "    .dataframe tbody tr th {\n",
       "        vertical-align: top;\n",
       "    }\n",
       "\n",
       "    .dataframe thead th {\n",
       "        text-align: right;\n",
       "    }\n",
       "</style>\n",
       "<table border=\"1\" class=\"dataframe\">\n",
       "  <thead>\n",
       "    <tr style=\"text-align: right;\">\n",
       "      <th></th>\n",
       "      <th>userid</th>\n",
       "    </tr>\n",
       "    <tr>\n",
       "      <th>game</th>\n",
       "      <th></th>\n",
       "    </tr>\n",
       "  </thead>\n",
       "  <tbody>\n",
       "    <tr>\n",
       "      <th>Dota 2</th>\n",
       "      <td>4841</td>\n",
       "    </tr>\n",
       "    <tr>\n",
       "      <th>Team Fortress 2</th>\n",
       "      <td>2323</td>\n",
       "    </tr>\n",
       "    <tr>\n",
       "      <th>Unturned</th>\n",
       "      <td>1563</td>\n",
       "    </tr>\n",
       "    <tr>\n",
       "      <th>Counter-Strike Global Offensive</th>\n",
       "      <td>1412</td>\n",
       "    </tr>\n",
       "    <tr>\n",
       "      <th>Half-Life 2 Lost Coast</th>\n",
       "      <td>981</td>\n",
       "    </tr>\n",
       "    <tr>\n",
       "      <th>Counter-Strike Source</th>\n",
       "      <td>978</td>\n",
       "    </tr>\n",
       "    <tr>\n",
       "      <th>Left 4 Dead 2</th>\n",
       "      <td>951</td>\n",
       "    </tr>\n",
       "    <tr>\n",
       "      <th>Counter-Strike</th>\n",
       "      <td>856</td>\n",
       "    </tr>\n",
       "    <tr>\n",
       "      <th>Warframe</th>\n",
       "      <td>847</td>\n",
       "    </tr>\n",
       "    <tr>\n",
       "      <th>Half-Life 2 Deathmatch</th>\n",
       "      <td>823</td>\n",
       "    </tr>\n",
       "  </tbody>\n",
       "</table>\n",
       "</div>"
      ],
      "text/plain": [
       "                                 userid\n",
       "game                                   \n",
       "Dota 2                             4841\n",
       "Team Fortress 2                    2323\n",
       "Unturned                           1563\n",
       "Counter-Strike Global Offensive    1412\n",
       "Half-Life 2 Lost Coast              981\n",
       "Counter-Strike Source               978\n",
       "Left 4 Dead 2                       951\n",
       "Counter-Strike                      856\n",
       "Warframe                            847\n",
       "Half-Life 2 Deathmatch              823"
      ]
     },
     "execution_count": 10,
     "metadata": {},
     "output_type": "execute_result"
    }
   ],
   "source": [
    " gamer_count = df.groupby(['game'])[['userid']].nunique().sort_values(by='userid',ascending=False).head(10)\n",
    "gamer_count"
   ]
  },
  {
   "cell_type": "code",
   "execution_count": 11,
   "id": "61502054",
   "metadata": {
    "execution": {
     "iopub.execute_input": "2025-01-06T20:07:41.682498Z",
     "iopub.status.busy": "2025-01-06T20:07:41.681995Z",
     "iopub.status.idle": "2025-01-06T20:07:42.166311Z",
     "shell.execute_reply": "2025-01-06T20:07:42.164644Z"
    },
    "papermill": {
     "duration": 0.495023,
     "end_time": "2025-01-06T20:07:42.168605",
     "exception": false,
     "start_time": "2025-01-06T20:07:41.673582",
     "status": "completed"
    },
    "tags": []
   },
   "outputs": [
    {
     "data": {
      "text/plain": [
       "[Text(0, 0, '4841'),\n",
       " Text(0, 0, '2323'),\n",
       " Text(0, 0, '1563'),\n",
       " Text(0, 0, '1412'),\n",
       " Text(0, 0, '981'),\n",
       " Text(0, 0, '978'),\n",
       " Text(0, 0, '951'),\n",
       " Text(0, 0, '856'),\n",
       " Text(0, 0, '847'),\n",
       " Text(0, 0, '823')]"
      ]
     },
     "execution_count": 11,
     "metadata": {},
     "output_type": "execute_result"
    },
    {
     "data": {
      "image/png": "[encoded data removed]",
      "text/plain": [
       "<Figure size 600x500 with 1 Axes>"
      ]
     },
     "metadata": {},
     "output_type": "display_data"
    }
   ],
   "source": [
    "ax = gamer_count.plot(kind='bar', title='Number of players for Most Popular Games', ylabel='No. of players',\n",
    "         xlabel='Game', figsize=(6, 5))\n",
    "\n",
    "ax.bar_label(ax.containers[0])"
   ]
  },
  {
   "cell_type": "markdown",
   "id": "58ba4a92",
   "metadata": {
    "papermill": {
     "duration": 0.008073,
     "end_time": "2025-01-06T20:07:42.185388",
     "exception": false,
     "start_time": "2025-01-06T20:07:42.177315",
     "status": "completed"
    },
    "tags": []
   },
   "source": [
    "### Check TOP-10 most played game in terms of hours"
   ]
  },
  {
   "cell_type": "code",
   "execution_count": 12,
   "id": "645009fd",
   "metadata": {
    "execution": {
     "iopub.execute_input": "2025-01-06T20:07:42.204698Z",
     "iopub.status.busy": "2025-01-06T20:07:42.204186Z",
     "iopub.status.idle": "2025-01-06T20:07:42.251070Z",
     "shell.execute_reply": "2025-01-06T20:07:42.249595Z"
    },
    "papermill": {
     "duration": 0.059036,
     "end_time": "2025-01-06T20:07:42.252967",
     "exception": false,
     "start_time": "2025-01-06T20:07:42.193931",
     "status": "completed"
    },
    "tags": []
   },
   "outputs": [
    {
     "data": {
      "text/html": [
       "<div>\n",
       "<style scoped>\n",
       "    .dataframe tbody tr th:only-of-type {\n",
       "        vertical-align: middle;\n",
       "    }\n",
       "\n",
       "    .dataframe tbody tr th {\n",
       "        vertical-align: top;\n",
       "    }\n",
       "\n",
       "    .dataframe thead th {\n",
       "        text-align: right;\n",
       "    }\n",
       "</style>\n",
       "<table border=\"1\" class=\"dataframe\">\n",
       "  <thead>\n",
       "    <tr style=\"text-align: right;\">\n",
       "      <th></th>\n",
       "      <th>hoursplayed</th>\n",
       "    </tr>\n",
       "    <tr>\n",
       "      <th>game</th>\n",
       "      <th></th>\n",
       "    </tr>\n",
       "  </thead>\n",
       "  <tbody>\n",
       "    <tr>\n",
       "      <th>Dota 2</th>\n",
       "      <td>986525.6</td>\n",
       "    </tr>\n",
       "    <tr>\n",
       "      <th>Counter-Strike Global Offensive</th>\n",
       "      <td>324183.6</td>\n",
       "    </tr>\n",
       "    <tr>\n",
       "      <th>Team Fortress 2</th>\n",
       "      <td>175996.3</td>\n",
       "    </tr>\n",
       "    <tr>\n",
       "      <th>Counter-Strike</th>\n",
       "      <td>135117.1</td>\n",
       "    </tr>\n",
       "    <tr>\n",
       "      <th>Sid Meier's Civilization V</th>\n",
       "      <td>100417.3</td>\n",
       "    </tr>\n",
       "    <tr>\n",
       "      <th>Counter-Strike Source</th>\n",
       "      <td>97053.5</td>\n",
       "    </tr>\n",
       "    <tr>\n",
       "      <th>The Elder Scrolls V Skyrim</th>\n",
       "      <td>71606.3</td>\n",
       "    </tr>\n",
       "    <tr>\n",
       "      <th>Garry's Mod</th>\n",
       "      <td>50456.3</td>\n",
       "    </tr>\n",
       "    <tr>\n",
       "      <th>Call of Duty Modern Warfare 2 - Multiplayer</th>\n",
       "      <td>42352.9</td>\n",
       "    </tr>\n",
       "    <tr>\n",
       "      <th>Left 4 Dead 2</th>\n",
       "      <td>34547.7</td>\n",
       "    </tr>\n",
       "  </tbody>\n",
       "</table>\n",
       "</div>"
      ],
      "text/plain": [
       "                                             hoursplayed\n",
       "game                                                    \n",
       "Dota 2                                          986525.6\n",
       "Counter-Strike Global Offensive                 324183.6\n",
       "Team Fortress 2                                 175996.3\n",
       "Counter-Strike                                  135117.1\n",
       "Sid Meier's Civilization V                      100417.3\n",
       "Counter-Strike Source                            97053.5\n",
       "The Elder Scrolls V Skyrim                       71606.3\n",
       "Garry's Mod                                      50456.3\n",
       "Call of Duty Modern Warfare 2 - Multiplayer      42352.9\n",
       "Left 4 Dead 2                                    34547.7"
      ]
     },
     "execution_count": 12,
     "metadata": {},
     "output_type": "execute_result"
    }
   ],
   "source": [
    "gameplay_hrs =df.groupby(['game'])[['hoursplayed']].sum().sort_values(by='hoursplayed',ascending=False).head(10)\n",
    "gameplay_hrs"
   ]
  },
  {
   "cell_type": "code",
   "execution_count": 13,
   "id": "c365f99d",
   "metadata": {
    "execution": {
     "iopub.execute_input": "2025-01-06T20:07:42.271447Z",
     "iopub.status.busy": "2025-01-06T20:07:42.271087Z",
     "iopub.status.idle": "2025-01-06T20:07:42.739899Z",
     "shell.execute_reply": "2025-01-06T20:07:42.738293Z"
    },
    "papermill": {
     "duration": 0.480429,
     "end_time": "2025-01-06T20:07:42.741930",
     "exception": false,
     "start_time": "2025-01-06T20:07:42.261501",
     "status": "completed"
    },
    "tags": []
   },
   "outputs": [
    {
     "data": {
      "text/plain": [
       "[Text(0, 0, '986526'),\n",
       " Text(0, 0, '324184'),\n",
       " Text(0, 0, '175996'),\n",
       " Text(0, 0, '135117'),\n",
       " Text(0, 0, '100417'),\n",
       " Text(0, 0, '97053.5'),\n",
       " Text(0, 0, '71606.3'),\n",
       " Text(0, 0, '50456.3'),\n",
       " Text(0, 0, '42352.9'),\n",
       " Text(0, 0, '34547.7')]"
      ]
     },
     "execution_count": 13,
     "metadata": {},
     "output_type": "execute_result"
    },
    {
     "data": {
      "image/png": "[encoded data removed]",
      "text/plain": [
       "<Figure size 600x500 with 1 Axes>"
      ]
     },
     "metadata": {},
     "output_type": "display_data"
    }
   ],
   "source": [
    "ax = gameplay_hrs.plot(kind='bar', title='Total hrs of game play for Most Popular Games', ylabel='Gamplay in Hours',\n",
    "         xlabel='Game', figsize=(6, 5))\n",
    "\n",
    "ax.bar_label(ax.containers[0])"
   ]
  },
  {
   "cell_type": "markdown",
   "id": "7f5faf9d",
   "metadata": {
    "papermill": {
     "duration": 0.010171,
     "end_time": "2025-01-06T20:07:42.762306",
     "exception": false,
     "start_time": "2025-01-06T20:07:42.752135",
     "status": "completed"
    },
    "tags": []
   },
   "source": [
    "### Top-10 average play-time For game"
   ]
  },
  {
   "cell_type": "code",
   "execution_count": 14,
   "id": "2c3affd5",
   "metadata": {
    "execution": {
     "iopub.execute_input": "2025-01-06T20:07:42.783775Z",
     "iopub.status.busy": "2025-01-06T20:07:42.783397Z",
     "iopub.status.idle": "2025-01-06T20:07:42.855322Z",
     "shell.execute_reply": "2025-01-06T20:07:42.853950Z"
    },
    "papermill": {
     "duration": 0.086391,
     "end_time": "2025-01-06T20:07:42.858735",
     "exception": false,
     "start_time": "2025-01-06T20:07:42.772344",
     "status": "completed"
    },
    "tags": []
   },
   "outputs": [
    {
     "data": {
      "text/html": [
       "<div>\n",
       "<style scoped>\n",
       "    .dataframe tbody tr th:only-of-type {\n",
       "        vertical-align: middle;\n",
       "    }\n",
       "\n",
       "    .dataframe tbody tr th {\n",
       "        vertical-align: top;\n",
       "    }\n",
       "\n",
       "    .dataframe thead th {\n",
       "        text-align: right;\n",
       "    }\n",
       "</style>\n",
       "<table border=\"1\" class=\"dataframe\">\n",
       "  <thead>\n",
       "    <tr style=\"text-align: right;\">\n",
       "      <th></th>\n",
       "      <th>hoursplayed</th>\n",
       "    </tr>\n",
       "    <tr>\n",
       "      <th>game</th>\n",
       "      <th></th>\n",
       "    </tr>\n",
       "  </thead>\n",
       "  <tbody>\n",
       "    <tr>\n",
       "      <th>Eastside Hockey Manager</th>\n",
       "      <td>648.000000</td>\n",
       "    </tr>\n",
       "    <tr>\n",
       "      <th>FIFA Manager 09</th>\n",
       "      <td>206.000000</td>\n",
       "    </tr>\n",
       "    <tr>\n",
       "      <th>Perpetuum</th>\n",
       "      <td>200.987500</td>\n",
       "    </tr>\n",
       "    <tr>\n",
       "      <th>Football Manager 2012</th>\n",
       "      <td>194.501887</td>\n",
       "    </tr>\n",
       "    <tr>\n",
       "      <th>Football Manager 2014</th>\n",
       "      <td>194.017722</td>\n",
       "    </tr>\n",
       "    <tr>\n",
       "      <th>Football Manager 2010</th>\n",
       "      <td>180.338356</td>\n",
       "    </tr>\n",
       "    <tr>\n",
       "      <th>Football Manager 2011</th>\n",
       "      <td>174.935385</td>\n",
       "    </tr>\n",
       "    <tr>\n",
       "      <th>Out of the Park Baseball 16</th>\n",
       "      <td>165.700000</td>\n",
       "    </tr>\n",
       "    <tr>\n",
       "      <th>Baldur's Gate II Enhanced Edition</th>\n",
       "      <td>165.165385</td>\n",
       "    </tr>\n",
       "    <tr>\n",
       "      <th>Football Manager 2015</th>\n",
       "      <td>156.167308</td>\n",
       "    </tr>\n",
       "  </tbody>\n",
       "</table>\n",
       "</div>"
      ],
      "text/plain": [
       "                                   hoursplayed\n",
       "game                                          \n",
       "Eastside Hockey Manager             648.000000\n",
       "FIFA Manager 09                     206.000000\n",
       "Perpetuum                           200.987500\n",
       "Football Manager 2012               194.501887\n",
       "Football Manager 2014               194.017722\n",
       "Football Manager 2010               180.338356\n",
       "Football Manager 2011               174.935385\n",
       "Out of the Park Baseball 16         165.700000\n",
       "Baldur's Gate II Enhanced Edition   165.165385\n",
       "Football Manager 2015               156.167308"
      ]
     },
     "execution_count": 14,
     "metadata": {},
     "output_type": "execute_result"
    }
   ],
   "source": [
    "avg_gameplay_hrs = df.groupby(['game'])[['hoursplayed']].mean().sort_values(by='hoursplayed',ascending=False).head(10)\n",
    "avg_gameplay_hrs"
   ]
  },
  {
   "cell_type": "code",
   "execution_count": 15,
   "id": "51eeedf7",
   "metadata": {
    "execution": {
     "iopub.execute_input": "2025-01-06T20:07:42.896078Z",
     "iopub.status.busy": "2025-01-06T20:07:42.895619Z",
     "iopub.status.idle": "2025-01-06T20:07:43.363861Z",
     "shell.execute_reply": "2025-01-06T20:07:43.362372Z"
    },
    "papermill": {
     "duration": 0.48883,
     "end_time": "2025-01-06T20:07:43.366008",
     "exception": false,
     "start_time": "2025-01-06T20:07:42.877178",
     "status": "completed"
    },
    "tags": []
   },
   "outputs": [
    {
     "data": {
      "text/plain": [
       "[Text(0, 0, '648'),\n",
       " Text(0, 0, '206'),\n",
       " Text(0, 0, '200.988'),\n",
       " Text(0, 0, '194.502'),\n",
       " Text(0, 0, '194.018'),\n",
       " Text(0, 0, '180.338'),\n",
       " Text(0, 0, '174.935'),\n",
       " Text(0, 0, '165.7'),\n",
       " Text(0, 0, '165.165'),\n",
       " Text(0, 0, '156.167')]"
      ]
     },
     "execution_count": 15,
     "metadata": {},
     "output_type": "execute_result"
    },
    {
     "data": {
      "image/png": "[encoded data removed]",
      "text/plain": [
       "<Figure size 600x500 with 1 Axes>"
      ]
     },
     "metadata": {},
     "output_type": "display_data"
    }
   ],
   "source": [
    "ax = avg_gameplay_hrs.plot(kind='bar', title='average hrs of game play for Most Popular Games', ylabel='Gamplay in Hours',\n",
    "         xlabel='Game', figsize=(6, 5))\n",
    "\n",
    "ax.bar_label(ax.containers[0])"
   ]
  },
  {
   "cell_type": "markdown",
   "id": "6b56d0fc",
   "metadata": {
    "papermill": {
     "duration": 0.011071,
     "end_time": "2025-01-06T20:07:43.388516",
     "exception": false,
     "start_time": "2025-01-06T20:07:43.377445",
     "status": "completed"
    },
    "tags": []
   },
   "source": [
    " In terms of average gameplay hours, most of the games are related to sports management simulation games."
   ]
  },
  {
   "cell_type": "markdown",
   "id": "f7f71811",
   "metadata": {
    "papermill": {
     "duration": 0.01096,
     "end_time": "2025-01-06T20:07:43.410975",
     "exception": false,
     "start_time": "2025-01-06T20:07:43.400015",
     "status": "completed"
    },
    "tags": []
   },
   "source": [
    "## User interaction based on gameplay hours."
   ]
  },
  {
   "cell_type": "code",
   "execution_count": 16,
   "id": "103b3422",
   "metadata": {
    "execution": {
     "iopub.execute_input": "2025-01-06T20:07:43.434862Z",
     "iopub.status.busy": "2025-01-06T20:07:43.434460Z",
     "iopub.status.idle": "2025-01-06T20:07:43.528053Z",
     "shell.execute_reply": "2025-01-06T20:07:43.526853Z"
    },
    "papermill": {
     "duration": 0.107962,
     "end_time": "2025-01-06T20:07:43.530142",
     "exception": false,
     "start_time": "2025-01-06T20:07:43.422180",
     "status": "completed"
    },
    "tags": []
   },
   "outputs": [],
   "source": [
    "df['likes'] = [1 if x > 48 else 0 for x in df['hoursplayed']]"
   ]
  },
  {
   "cell_type": "code",
   "execution_count": 17,
   "id": "7d529325",
   "metadata": {
    "execution": {
     "iopub.execute_input": "2025-01-06T20:07:43.556343Z",
     "iopub.status.busy": "2025-01-06T20:07:43.555778Z",
     "iopub.status.idle": "2025-01-06T20:07:43.572353Z",
     "shell.execute_reply": "2025-01-06T20:07:43.570831Z"
    },
    "papermill": {
     "duration": 0.032573,
     "end_time": "2025-01-06T20:07:43.574809",
     "exception": false,
     "start_time": "2025-01-06T20:07:43.542236",
     "status": "completed"
    },
    "tags": []
   },
   "outputs": [
    {
     "data": {
      "text/html": [
       "<div>\n",
       "<style scoped>\n",
       "    .dataframe tbody tr th:only-of-type {\n",
       "        vertical-align: middle;\n",
       "    }\n",
       "\n",
       "    .dataframe tbody tr th {\n",
       "        vertical-align: top;\n",
       "    }\n",
       "\n",
       "    .dataframe thead th {\n",
       "        text-align: right;\n",
       "    }\n",
       "</style>\n",
       "<table border=\"1\" class=\"dataframe\">\n",
       "  <thead>\n",
       "    <tr style=\"text-align: right;\">\n",
       "      <th></th>\n",
       "      <th>userid</th>\n",
       "      <th>game</th>\n",
       "      <th>behavior</th>\n",
       "      <th>hoursplayed</th>\n",
       "      <th>likes</th>\n",
       "    </tr>\n",
       "  </thead>\n",
       "  <tbody>\n",
       "    <tr>\n",
       "      <th>0</th>\n",
       "      <td>151603712</td>\n",
       "      <td>The Elder Scrolls V Skyrim</td>\n",
       "      <td>purchase</td>\n",
       "      <td>1.0</td>\n",
       "      <td>0</td>\n",
       "    </tr>\n",
       "    <tr>\n",
       "      <th>1</th>\n",
       "      <td>151603712</td>\n",
       "      <td>The Elder Scrolls V Skyrim</td>\n",
       "      <td>play</td>\n",
       "      <td>273.0</td>\n",
       "      <td>1</td>\n",
       "    </tr>\n",
       "    <tr>\n",
       "      <th>2</th>\n",
       "      <td>151603712</td>\n",
       "      <td>Fallout 4</td>\n",
       "      <td>purchase</td>\n",
       "      <td>1.0</td>\n",
       "      <td>0</td>\n",
       "    </tr>\n",
       "    <tr>\n",
       "      <th>3</th>\n",
       "      <td>151603712</td>\n",
       "      <td>Fallout 4</td>\n",
       "      <td>play</td>\n",
       "      <td>87.0</td>\n",
       "      <td>1</td>\n",
       "    </tr>\n",
       "    <tr>\n",
       "      <th>4</th>\n",
       "      <td>151603712</td>\n",
       "      <td>Spore</td>\n",
       "      <td>purchase</td>\n",
       "      <td>1.0</td>\n",
       "      <td>0</td>\n",
       "    </tr>\n",
       "  </tbody>\n",
       "</table>\n",
       "</div>"
      ],
      "text/plain": [
       "      userid                        game  behavior  hoursplayed  likes\n",
       "0  151603712  The Elder Scrolls V Skyrim  purchase          1.0      0\n",
       "1  151603712  The Elder Scrolls V Skyrim      play        273.0      1\n",
       "2  151603712                   Fallout 4  purchase          1.0      0\n",
       "3  151603712                   Fallout 4      play         87.0      1\n",
       "4  151603712                       Spore  purchase          1.0      0"
      ]
     },
     "execution_count": 17,
     "metadata": {},
     "output_type": "execute_result"
    }
   ],
   "source": [
    "df.head()"
   ]
  },
  {
   "cell_type": "code",
   "execution_count": 18,
   "id": "7b5920b5",
   "metadata": {
    "execution": {
     "iopub.execute_input": "2025-01-06T20:07:43.599954Z",
     "iopub.status.busy": "2025-01-06T20:07:43.599465Z",
     "iopub.status.idle": "2025-01-06T20:07:45.453369Z",
     "shell.execute_reply": "2025-01-06T20:07:45.451962Z"
    },
    "papermill": {
     "duration": 1.868796,
     "end_time": "2025-01-06T20:07:45.455479",
     "exception": false,
     "start_time": "2025-01-06T20:07:43.586683",
     "status": "completed"
    },
    "tags": []
   },
   "outputs": [
    {
     "data": {
      "text/html": [
       "<div>\n",
       "<style scoped>\n",
       "    .dataframe tbody tr th:only-of-type {\n",
       "        vertical-align: middle;\n",
       "    }\n",
       "\n",
       "    .dataframe tbody tr th {\n",
       "        vertical-align: top;\n",
       "    }\n",
       "\n",
       "    .dataframe thead th {\n",
       "        text-align: right;\n",
       "    }\n",
       "</style>\n",
       "<table border=\"1\" class=\"dataframe\">\n",
       "  <thead>\n",
       "    <tr style=\"text-align: right;\">\n",
       "      <th></th>\n",
       "      <th>likes</th>\n",
       "    </tr>\n",
       "    <tr>\n",
       "      <th>game</th>\n",
       "      <th></th>\n",
       "    </tr>\n",
       "  </thead>\n",
       "  <tbody>\n",
       "    <tr>\n",
       "      <th>Dota 2</th>\n",
       "      <td>1346</td>\n",
       "    </tr>\n",
       "    <tr>\n",
       "      <th>Counter-Strike Global Offensive</th>\n",
       "      <td>739</td>\n",
       "    </tr>\n",
       "    <tr>\n",
       "      <th>Team Fortress 2</th>\n",
       "      <td>443</td>\n",
       "    </tr>\n",
       "    <tr>\n",
       "      <th>The Elder Scrolls V Skyrim</th>\n",
       "      <td>331</td>\n",
       "    </tr>\n",
       "    <tr>\n",
       "      <th>Sid Meier's Civilization V</th>\n",
       "      <td>240</td>\n",
       "    </tr>\n",
       "    <tr>\n",
       "      <th>Counter-Strike Source</th>\n",
       "      <td>227</td>\n",
       "    </tr>\n",
       "    <tr>\n",
       "      <th>Garry's Mod</th>\n",
       "      <td>197</td>\n",
       "    </tr>\n",
       "    <tr>\n",
       "      <th>Counter-Strike</th>\n",
       "      <td>183</td>\n",
       "    </tr>\n",
       "    <tr>\n",
       "      <th>Terraria</th>\n",
       "      <td>173</td>\n",
       "    </tr>\n",
       "    <tr>\n",
       "      <th>Call of Duty Modern Warfare 2 - Multiplayer</th>\n",
       "      <td>155</td>\n",
       "    </tr>\n",
       "  </tbody>\n",
       "</table>\n",
       "</div>"
      ],
      "text/plain": [
       "                                             likes\n",
       "game                                              \n",
       "Dota 2                                        1346\n",
       "Counter-Strike Global Offensive                739\n",
       "Team Fortress 2                                443\n",
       "The Elder Scrolls V Skyrim                     331\n",
       "Sid Meier's Civilization V                     240\n",
       "Counter-Strike Source                          227\n",
       "Garry's Mod                                    197\n",
       "Counter-Strike                                 183\n",
       "Terraria                                       173\n",
       "Call of Duty Modern Warfare 2 - Multiplayer    155"
      ]
     },
     "execution_count": 18,
     "metadata": {},
     "output_type": "execute_result"
    }
   ],
   "source": [
    "game_likes = df.groupby('game')[['likes']].apply(lambda x: (x==1).sum()).sort_values(by='likes', ascending=False)\n",
    "game_likes.head(10)"
   ]
  },
  {
   "cell_type": "code",
   "execution_count": 19,
   "id": "d4e11c91",
   "metadata": {
    "execution": {
     "iopub.execute_input": "2025-01-06T20:07:45.482600Z",
     "iopub.status.busy": "2025-01-06T20:07:45.482148Z",
     "iopub.status.idle": "2025-01-06T20:07:45.505882Z",
     "shell.execute_reply": "2025-01-06T20:07:45.504257Z"
    },
    "papermill": {
     "duration": 0.039904,
     "end_time": "2025-01-06T20:07:45.508151",
     "exception": false,
     "start_time": "2025-01-06T20:07:45.468247",
     "status": "completed"
    },
    "tags": []
   },
   "outputs": [
    {
     "data": {
      "text/html": [
       "<div>\n",
       "<style scoped>\n",
       "    .dataframe tbody tr th:only-of-type {\n",
       "        vertical-align: middle;\n",
       "    }\n",
       "\n",
       "    .dataframe tbody tr th {\n",
       "        vertical-align: top;\n",
       "    }\n",
       "\n",
       "    .dataframe thead th {\n",
       "        text-align: right;\n",
       "    }\n",
       "</style>\n",
       "<table border=\"1\" class=\"dataframe\">\n",
       "  <thead>\n",
       "    <tr style=\"text-align: right;\">\n",
       "      <th></th>\n",
       "      <th>hoursplayed</th>\n",
       "      <th>likes</th>\n",
       "    </tr>\n",
       "    <tr>\n",
       "      <th>game</th>\n",
       "      <th></th>\n",
       "      <th></th>\n",
       "    </tr>\n",
       "  </thead>\n",
       "  <tbody>\n",
       "    <tr>\n",
       "      <th>Dota 2</th>\n",
       "      <td>986525.6</td>\n",
       "      <td>1346</td>\n",
       "    </tr>\n",
       "    <tr>\n",
       "      <th>Counter-Strike Global Offensive</th>\n",
       "      <td>324183.6</td>\n",
       "      <td>739</td>\n",
       "    </tr>\n",
       "    <tr>\n",
       "      <th>Team Fortress 2</th>\n",
       "      <td>175996.3</td>\n",
       "      <td>443</td>\n",
       "    </tr>\n",
       "    <tr>\n",
       "      <th>Counter-Strike</th>\n",
       "      <td>135117.1</td>\n",
       "      <td>183</td>\n",
       "    </tr>\n",
       "    <tr>\n",
       "      <th>Sid Meier's Civilization V</th>\n",
       "      <td>100417.3</td>\n",
       "      <td>240</td>\n",
       "    </tr>\n",
       "    <tr>\n",
       "      <th>Counter-Strike Source</th>\n",
       "      <td>97053.5</td>\n",
       "      <td>227</td>\n",
       "    </tr>\n",
       "    <tr>\n",
       "      <th>The Elder Scrolls V Skyrim</th>\n",
       "      <td>71606.3</td>\n",
       "      <td>331</td>\n",
       "    </tr>\n",
       "    <tr>\n",
       "      <th>Garry's Mod</th>\n",
       "      <td>50456.3</td>\n",
       "      <td>197</td>\n",
       "    </tr>\n",
       "    <tr>\n",
       "      <th>Call of Duty Modern Warfare 2 - Multiplayer</th>\n",
       "      <td>42352.9</td>\n",
       "      <td>155</td>\n",
       "    </tr>\n",
       "    <tr>\n",
       "      <th>Left 4 Dead 2</th>\n",
       "      <td>34547.7</td>\n",
       "      <td>137</td>\n",
       "    </tr>\n",
       "  </tbody>\n",
       "</table>\n",
       "</div>"
      ],
      "text/plain": [
       "                                             hoursplayed  likes\n",
       "game                                                           \n",
       "Dota 2                                          986525.6   1346\n",
       "Counter-Strike Global Offensive                 324183.6    739\n",
       "Team Fortress 2                                 175996.3    443\n",
       "Counter-Strike                                  135117.1    183\n",
       "Sid Meier's Civilization V                      100417.3    240\n",
       "Counter-Strike Source                            97053.5    227\n",
       "The Elder Scrolls V Skyrim                       71606.3    331\n",
       "Garry's Mod                                      50456.3    197\n",
       "Call of Duty Modern Warfare 2 - Multiplayer      42352.9    155\n",
       "Left 4 Dead 2                                    34547.7    137"
      ]
     },
     "execution_count": 19,
     "metadata": {},
     "output_type": "execute_result"
    }
   ],
   "source": [
    "\n",
    "gp_gl= pd.merge(gameplay_hrs , game_likes, on='game')\n",
    "gp_gl"
   ]
  },
  {
   "cell_type": "code",
   "execution_count": 20,
   "id": "c0c002b1",
   "metadata": {
    "execution": {
     "iopub.execute_input": "2025-01-06T20:07:45.533970Z",
     "iopub.status.busy": "2025-01-06T20:07:45.533477Z",
     "iopub.status.idle": "2025-01-06T20:07:46.224669Z",
     "shell.execute_reply": "2025-01-06T20:07:46.223347Z"
    },
    "papermill": {
     "duration": 0.707053,
     "end_time": "2025-01-06T20:07:46.227378",
     "exception": false,
     "start_time": "2025-01-06T20:07:45.520325",
     "status": "completed"
    },
    "tags": []
   },
   "outputs": [
    {
     "data": {
      "image/png": "[encoded data removed]",
      "text/plain": [
       "<Figure size 640x480 with 1 Axes>"
      ]
     },
     "metadata": {},
     "output_type": "display_data"
    }
   ],
   "source": [
    "#Plot grouped bar-chart of common games\n",
    "\n",
    "plot_gameplay_gamelikes = gp_gl.plot.bar(logy=True)"
   ]
  },
  {
   "cell_type": "code",
   "execution_count": 21,
   "id": "126cc87b",
   "metadata": {
    "execution": {
     "iopub.execute_input": "2025-01-06T20:07:46.272758Z",
     "iopub.status.busy": "2025-01-06T20:07:46.272251Z",
     "iopub.status.idle": "2025-01-06T20:07:46.291102Z",
     "shell.execute_reply": "2025-01-06T20:07:46.289933Z"
    },
    "papermill": {
     "duration": 0.039129,
     "end_time": "2025-01-06T20:07:46.294029",
     "exception": false,
     "start_time": "2025-01-06T20:07:46.254900",
     "status": "completed"
    },
    "tags": []
   },
   "outputs": [
    {
     "data": {
      "text/html": [
       "<div>\n",
       "<style scoped>\n",
       "    .dataframe tbody tr th:only-of-type {\n",
       "        vertical-align: middle;\n",
       "    }\n",
       "\n",
       "    .dataframe tbody tr th {\n",
       "        vertical-align: top;\n",
       "    }\n",
       "\n",
       "    .dataframe thead th {\n",
       "        text-align: right;\n",
       "    }\n",
       "</style>\n",
       "<table border=\"1\" class=\"dataframe\">\n",
       "  <thead>\n",
       "    <tr style=\"text-align: right;\">\n",
       "      <th></th>\n",
       "      <th>userid</th>\n",
       "      <th>likes</th>\n",
       "    </tr>\n",
       "    <tr>\n",
       "      <th>game</th>\n",
       "      <th></th>\n",
       "      <th></th>\n",
       "    </tr>\n",
       "  </thead>\n",
       "  <tbody>\n",
       "    <tr>\n",
       "      <th>Dota 2</th>\n",
       "      <td>4841</td>\n",
       "      <td>1346</td>\n",
       "    </tr>\n",
       "    <tr>\n",
       "      <th>Team Fortress 2</th>\n",
       "      <td>2323</td>\n",
       "      <td>443</td>\n",
       "    </tr>\n",
       "    <tr>\n",
       "      <th>Unturned</th>\n",
       "      <td>1563</td>\n",
       "      <td>68</td>\n",
       "    </tr>\n",
       "    <tr>\n",
       "      <th>Counter-Strike Global Offensive</th>\n",
       "      <td>1412</td>\n",
       "      <td>739</td>\n",
       "    </tr>\n",
       "    <tr>\n",
       "      <th>Half-Life 2 Lost Coast</th>\n",
       "      <td>981</td>\n",
       "      <td>0</td>\n",
       "    </tr>\n",
       "    <tr>\n",
       "      <th>Counter-Strike Source</th>\n",
       "      <td>978</td>\n",
       "      <td>227</td>\n",
       "    </tr>\n",
       "    <tr>\n",
       "      <th>Left 4 Dead 2</th>\n",
       "      <td>951</td>\n",
       "      <td>137</td>\n",
       "    </tr>\n",
       "    <tr>\n",
       "      <th>Counter-Strike</th>\n",
       "      <td>856</td>\n",
       "      <td>183</td>\n",
       "    </tr>\n",
       "    <tr>\n",
       "      <th>Warframe</th>\n",
       "      <td>847</td>\n",
       "      <td>83</td>\n",
       "    </tr>\n",
       "    <tr>\n",
       "      <th>Half-Life 2 Deathmatch</th>\n",
       "      <td>823</td>\n",
       "      <td>8</td>\n",
       "    </tr>\n",
       "  </tbody>\n",
       "</table>\n",
       "</div>"
      ],
      "text/plain": [
       "                                 userid  likes\n",
       "game                                          \n",
       "Dota 2                             4841   1346\n",
       "Team Fortress 2                    2323    443\n",
       "Unturned                           1563     68\n",
       "Counter-Strike Global Offensive    1412    739\n",
       "Half-Life 2 Lost Coast              981      0\n",
       "Counter-Strike Source               978    227\n",
       "Left 4 Dead 2                       951    137\n",
       "Counter-Strike                      856    183\n",
       "Warframe                            847     83\n",
       "Half-Life 2 Deathmatch              823      8"
      ]
     },
     "execution_count": 21,
     "metadata": {},
     "output_type": "execute_result"
    }
   ],
   "source": [
    "#Plot grouped bar-chart of common games\n",
    "gc_gl= pd.merge(gamer_count , game_likes, on='game')\n",
    "gc_gl"
   ]
  },
  {
   "cell_type": "code",
   "execution_count": 22,
   "id": "c2be6c21",
   "metadata": {
    "execution": {
     "iopub.execute_input": "2025-01-06T20:07:46.334978Z",
     "iopub.status.busy": "2025-01-06T20:07:46.334444Z",
     "iopub.status.idle": "2025-01-06T20:07:47.015602Z",
     "shell.execute_reply": "2025-01-06T20:07:47.013692Z"
    },
    "papermill": {
     "duration": 0.702498,
     "end_time": "2025-01-06T20:07:47.018582",
     "exception": false,
     "start_time": "2025-01-06T20:07:46.316084",
     "status": "completed"
    },
    "tags": []
   },
   "outputs": [
    {
     "data": {
      "image/png": "[encoded data removed]",
      "text/plain": [
       "<Figure size 640x480 with 1 Axes>"
      ]
     },
     "metadata": {},
     "output_type": "display_data"
    }
   ],
   "source": [
    "plot_gamercount_gamelikes = gc_gl.plot.bar(logy=True)"
   ]
  },
  {
   "cell_type": "code",
   "execution_count": null,
   "id": "d483229b",
   "metadata": {
    "papermill": {
     "duration": 0.01441,
     "end_time": "2025-01-06T20:07:47.047502",
     "exception": false,
     "start_time": "2025-01-06T20:07:47.033092",
     "status": "completed"
    },
    "tags": []
   },
   "outputs": [],
   "source": []
  }
 ],
 "metadata": {
  "kaggle": {
   "accelerator": "none",
   "dataSources": [
    {
     "datasetId": 915,
     "sourceId": 1720,
     "sourceType": "datasetVersion"
    }
   ],
   "dockerImageVersionId": 30822,
   "isGpuEnabled": false,
   "isInternetEnabled": true,
   "language": "python",
   "sourceType": "notebook"
  },
  "kernelspec": {
   "display_name": "Python 3",
   "language": "python",
   "name": "python3"
  },
  "language_info": {
   "codemirror_mode": {
    "name": "ipython",
    "version": 3
   },
   "file_extension": ".py",
   "mimetype": "text/x-python",
   "name": "python",
   "nbconvert_exporter": "python",
   "pygments_lexer": "ipython3",
   "version": "3.10.12"
  },
  "papermill": {
   "default_parameters": {},
   "duration": 9.863612,
   "end_time": "2025-01-06T20:07:47.685018",
   "environment_variables": {},
   "exception": null,
   "input_path": "__notebook__.ipynb",
   "output_path": "__notebook__.ipynb",
   "parameters": {},
   "start_time": "2025-01-06T20:07:37.821406",
   "version": "2.6.0"
  }
 },
 "nbformat": 4,
 "nbformat_minor": 5
}
